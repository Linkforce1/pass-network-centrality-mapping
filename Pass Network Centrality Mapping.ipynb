{
 "cells": [
  {
   "cell_type": "code",
   "execution_count": 1,
   "id": "7e98e733-9a29-48b7-8ecb-33843ba84c25",
   "metadata": {},
   "outputs": [],
   "source": [
    "from statsbombpy import sb\n",
    "import pandas as pd\n",
    "import matplotlib.pyplot as plt\n",
    "import networkx as nx\n",
    "from mplsoccer import Pitch"
   ]
  },
  {
   "cell_type": "code",
   "execution_count": 6,
   "id": "fec64d28-ca74-4814-bbef-8f37e0ce06f9",
   "metadata": {},
   "outputs": [
    {
     "data": {
      "text/plain": [
       "array(['1. Bundesliga', 'African Cup of Nations', 'Champions League',\n",
       "       'Copa America', 'Copa del Rey', \"FA Women's Super League\",\n",
       "       'FIFA U20 World Cup', 'FIFA World Cup', 'Indian Super league',\n",
       "       'La Liga', 'Liga Profesional', 'Ligue 1', 'Major League Soccer',\n",
       "       'North American League', 'NWSL', 'Premier League', 'Serie A',\n",
       "       'UEFA Euro', 'UEFA Europa League', \"UEFA Women's Euro\",\n",
       "       \"Women's World Cup\"], dtype=object)"
      ]
     },
     "execution_count": 6,
     "metadata": {},
     "output_type": "execute_result"
    }
   ],
   "source": [
    "#Get all competitions\n",
    "competitions = sb.competitions()\n",
    "\n",
    "# Get all matches from 2018 Men's World Cup\n",
    "matches = sb.matches(competition_id=43, season_id=3)\n",
    "\n",
    "# Choose a Spain match\n",
    "spain_match = matches[matches['home_team'] == 'Spain'].iloc[0]\n",
    "match_id = spain_match['match_id']\n",
    "\n",
    "# Load event data\n",
    "events = sb.events(match_id=match_id)\n",
    "\n",
    "competitions.head()\n",
    "\n",
    "competitions['competition_name'].unique()"
   ]
  }
 ],
 "metadata": {
  "kernelspec": {
   "display_name": "Python 3 (ipykernel)",
   "language": "python",
   "name": "python3"
  },
  "language_info": {
   "codemirror_mode": {
    "name": "ipython",
    "version": 3
   },
   "file_extension": ".py",
   "mimetype": "text/x-python",
   "name": "python",
   "nbconvert_exporter": "python",
   "pygments_lexer": "ipython3",
   "version": "3.12.11"
  }
 },
 "nbformat": 4,
 "nbformat_minor": 5
}
